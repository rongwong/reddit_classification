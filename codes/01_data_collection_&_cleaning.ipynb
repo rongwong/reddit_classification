{
 "cells": [
  {
   "cell_type": "markdown",
   "metadata": {},
   "source": [
    "# Introduction\n",
    "\n",
    "\n",
    "This project focuses on building a classifier for Natural Language Processing (NLP). \n",
    "\n",
    "Using Reddit's API to retrieve data from two movie subreddit groups, it will be cleaned in order to fit and train the final classifier model to be able to accurately predict the movie genres from posts. \n",
    "\n",
    "This is a supervised learning classification model and the workflow will touch on Data Wrangling/Acquisition, Natural Language Processing and Classification Modeling. \n",
    "\n"
   ]
  },
  {
   "cell_type": "markdown",
   "metadata": {},
   "source": [
    "***"
   ]
  },
  {
   "cell_type": "markdown",
   "metadata": {},
   "source": [
    "## 1.0 Data Collection and Cleaning\n",
    "\n",
    "Goal: Obtain corpus\n",
    "\n",
    "- [1.1 Data Collection from Reddit](#1.1-Data-Collection-from-Reddit)\n",
    "- [1.2 Initial View of the Data](#1.2-Initial-View-of-the-Data)\n",
    "- [1.3 Cleaning of the Data](#1.3-Cleaning-of-the-Data)\n",
    "\n",
    "\n",
    "<!-- Back to: [1.0 - Data Collection and Cleaning](#1.0-Data-Collection-and-Cleaning) -->\n",
    "<!-- Go to [Defined Functions](#Defined-Functions:) -->\n",
    "\n",
    "Jump to:\n",
    "<!-- - [1.0 Data Collection and Cleaning](01_data_collection_&_cleaning.ipynb) -->\n",
    "- [2.0 EDA & Data Preprocessing](02_eda_&_data_processing.ipynb)\n",
    "- [3.0 Model Building](03_model_building.ipynb)\n",
    "- [4.0 Reddit Classification Report](04_reddit_classification_report.ipynb)"
   ]
  },
  {
   "cell_type": "markdown",
   "metadata": {},
   "source": [
    "#### Imports:"
   ]
  },
  {
   "cell_type": "code",
   "execution_count": 1,
   "metadata": {},
   "outputs": [],
   "source": [
    "import pandas as pd\n",
    "import requests\n",
    "import numpy as np\n",
    "\n",
    "import time\n",
    "import random"
   ]
  },
  {
   "cell_type": "markdown",
   "metadata": {},
   "source": [
    "#### Defined Functions:"
   ]
  },
  {
   "cell_type": "code",
   "execution_count": 2,
   "metadata": {},
   "outputs": [],
   "source": [
    "#function to get data from reddit API, 40 loops x 25 post\n",
    "\n",
    "def get_data(dict_name, url, file_name, loops):\n",
    "    \"\"\" loop to get data from each page of reddit, saves into csv.\"\"\"\n",
    "    posts = []\n",
    "    after = None\n",
    "    count_lines =0\n",
    "\n",
    "    #looping through each page to get data, using the 'after' to get to the next page\n",
    "    for a in range (loops):\n",
    "        if after == None:\n",
    "            current_url= url\n",
    "        else: \n",
    "            current_url = url + '?after=' + after\n",
    "        print (current_url)\n",
    "        res= requests.get(current_url, headers={'User-agent': 'Mabbook Pro'})\n",
    "\n",
    "        if res.status_code != 200:\n",
    "            print(\"status error\", res.status_code)\n",
    "            break\n",
    "        \n",
    "        \n",
    "        dict_name= res.json()\n",
    "        current_posts =  [p['data'] for p in dict_name['data']['children']]\n",
    "        posts.extend(current_posts)\n",
    "        after = dict_name['data']['after']\n",
    "        \n",
    "\n",
    "        #generate random sleep\n",
    "        sleep_duration = random.randint(1,3)\n",
    "        print(f\"sleep: {sleep_duration}\")\n",
    "        time.sleep(sleep_duration)\n",
    "        \n",
    "        #adding a counter to help shorten the loop after\n",
    "        count_lines += 1\n",
    "        print(f\"count: {count_lines} \")\n",
    "    \n",
    "        \n",
    "    csv_name = '../datasets/' + file_name + '.csv'\n",
    "    pd.DataFrame(posts).to_csv(csv_name, index=False)\n",
    "\n",
    "    return len(posts)\n",
    "  "
   ]
  },
  {
   "cell_type": "code",
   "execution_count": 3,
   "metadata": {},
   "outputs": [],
   "source": [
    "# create function for viewing unique\n",
    "\n",
    "def viewuni(df, column):\n",
    "    \"\"\"for viewing unique entries by column and dataframe\"\"\"\n",
    "    print(df[column].unique())"
   ]
  },
  {
   "cell_type": "code",
   "execution_count": 4,
   "metadata": {},
   "outputs": [],
   "source": [
    "# create fucntion for viewing nulls\n",
    "\n",
    "def viewnull (df, column):\n",
    "    \"\"\"for viewing 'NaN' entries by column and dataframe\"\"\"\n",
    "    return df[df[column].isnull()]"
   ]
  },
  {
   "cell_type": "code",
   "execution_count": 5,
   "metadata": {},
   "outputs": [],
   "source": [
    "# create function for replacing values\n",
    "\n",
    "def replace_val(df, column, old_value, new_value):\n",
    "    \"\"\" for replacing values in columns\"\"\"\n",
    "    df[column] = df[column].replace({old_value: new_value})"
   ]
  },
  {
   "cell_type": "code",
   "execution_count": 6,
   "metadata": {},
   "outputs": [],
   "source": [
    "# create function for printing value counts\n",
    "def val_count(df, columns):\n",
    "    \"\"\" for value counts\"\"\"\n",
    "    print (df[columns].value_counts(dropna=False))"
   ]
  },
  {
   "cell_type": "code",
   "execution_count": 7,
   "metadata": {},
   "outputs": [],
   "source": [
    "# create a function to count nulls only\n",
    "def null_count(df, columns):\n",
    "    \"\"\"to count null in column\"\"\"\n",
    "    print(f\"{columns} nulls: {df[columns].isna().sum()}\")"
   ]
  },
  {
   "cell_type": "markdown",
   "metadata": {},
   "source": [
    "\n",
    "***"
   ]
  },
  {
   "cell_type": "markdown",
   "metadata": {},
   "source": [
    "## 1.1 Data Collection from Reddit\n",
    "\n",
    "- Back to: [1.0 - Data Collection and Cleaning](#1.0-Data-Collection-and-Cleaning)\n",
    "- Go to [Defined Functions](#Defined-Functions:)"
   ]
  },
  {
   "cell_type": "code",
   "execution_count": 8,
   "metadata": {},
   "outputs": [],
   "source": [
    "#scifi movies url and horror movies url\n",
    "scifi_url = 'https://www.reddit.com/r/scifimovies.json'\n",
    "horror_url = 'https://www.reddit.com/r/HorrorMovies.json'"
   ]
  },
  {
   "cell_type": "code",
   "execution_count": 9,
   "metadata": {
    "scrolled": true
   },
   "outputs": [
    {
     "name": "stdout",
     "output_type": "stream",
     "text": [
      "https://www.reddit.com/r/scifimovies.json\n",
      "sleep: 3\n",
      "count: 1 \n",
      "https://www.reddit.com/r/scifimovies.json?after=t3_gyb8db\n",
      "sleep: 3\n",
      "count: 2 \n",
      "https://www.reddit.com/r/scifimovies.json?after=t3_gmldkf\n",
      "sleep: 1\n",
      "count: 3 \n",
      "https://www.reddit.com/r/scifimovies.json?after=t3_gcdgft\n",
      "sleep: 3\n",
      "count: 4 \n",
      "https://www.reddit.com/r/scifimovies.json?after=t3_fbdwk6\n",
      "sleep: 2\n",
      "count: 5 \n",
      "https://www.reddit.com/r/scifimovies.json?after=t3_eepqw0\n",
      "sleep: 2\n",
      "count: 6 \n",
      "https://www.reddit.com/r/scifimovies.json?after=t3_c6dcjq\n",
      "sleep: 3\n",
      "count: 7 \n",
      "https://www.reddit.com/r/scifimovies.json?after=t3_alyqnr\n",
      "sleep: 2\n",
      "count: 8 \n",
      "https://www.reddit.com/r/scifimovies.json?after=t3_93q8sv\n",
      "sleep: 3\n",
      "count: 9 \n",
      "https://www.reddit.com/r/scifimovies.json?after=t3_85k8mt\n",
      "sleep: 3\n",
      "count: 10 \n",
      "https://www.reddit.com/r/scifimovies.json?after=t3_6nwdw8\n",
      "sleep: 3\n",
      "count: 11 \n",
      "https://www.reddit.com/r/scifimovies.json?after=t3_69moep\n",
      "sleep: 1\n",
      "count: 12 \n",
      "https://www.reddit.com/r/scifimovies.json?after=t3_5nraru\n",
      "sleep: 1\n",
      "count: 13 \n",
      "https://www.reddit.com/r/scifimovies.json?after=t3_2t1spz\n",
      "sleep: 1\n",
      "count: 14 \n"
     ]
    },
    {
     "data": {
      "text/plain": [
       "347"
      ]
     },
     "execution_count": 9,
     "metadata": {},
     "output_type": "execute_result"
    }
   ],
   "source": [
    "#use get_data function to retrieve post from reddit and save as dataframe. \n",
    "get_data('scifi_dict', scifi_url, 'scifi_data', 14)"
   ]
  },
  {
   "cell_type": "code",
   "execution_count": 10,
   "metadata": {
    "scrolled": true
   },
   "outputs": [
    {
     "name": "stdout",
     "output_type": "stream",
     "text": [
      "https://www.reddit.com/r/HorrorMovies.json\n",
      "sleep: 1\n",
      "count: 1 \n",
      "https://www.reddit.com/r/HorrorMovies.json?after=t3_hbs6u3\n",
      "sleep: 2\n",
      "count: 2 \n",
      "https://www.reddit.com/r/HorrorMovies.json?after=t3_h8ruze\n",
      "sleep: 1\n",
      "count: 3 \n",
      "https://www.reddit.com/r/HorrorMovies.json?after=t3_h0k30s\n",
      "sleep: 3\n",
      "count: 4 \n",
      "https://www.reddit.com/r/HorrorMovies.json?after=t3_gsz555\n",
      "sleep: 3\n",
      "count: 5 \n",
      "https://www.reddit.com/r/HorrorMovies.json?after=t3_go74h9\n",
      "sleep: 2\n",
      "count: 6 \n",
      "https://www.reddit.com/r/HorrorMovies.json?after=t3_gkliya\n",
      "sleep: 3\n",
      "count: 7 \n",
      "https://www.reddit.com/r/HorrorMovies.json?after=t3_gfk6gq\n",
      "sleep: 2\n",
      "count: 8 \n",
      "https://www.reddit.com/r/HorrorMovies.json?after=t3_gdfcmd\n",
      "sleep: 1\n",
      "count: 9 \n",
      "https://www.reddit.com/r/HorrorMovies.json?after=t3_gbavs2\n",
      "sleep: 2\n",
      "count: 10 \n",
      "https://www.reddit.com/r/HorrorMovies.json?after=t3_g9duh9\n",
      "sleep: 2\n",
      "count: 11 \n",
      "https://www.reddit.com/r/HorrorMovies.json?after=t3_g70z58\n",
      "sleep: 3\n",
      "count: 12 \n",
      "https://www.reddit.com/r/HorrorMovies.json?after=t3_g53kte\n",
      "sleep: 2\n",
      "count: 13 \n",
      "https://www.reddit.com/r/HorrorMovies.json?after=t3_g3hqfk\n",
      "sleep: 2\n",
      "count: 14 \n",
      "https://www.reddit.com/r/HorrorMovies.json?after=t3_g1ilyq\n",
      "sleep: 1\n",
      "count: 15 \n",
      "https://www.reddit.com/r/HorrorMovies.json?after=t3_fzjesp\n",
      "sleep: 1\n",
      "count: 16 \n",
      "https://www.reddit.com/r/HorrorMovies.json?after=t3_fy4qk2\n",
      "sleep: 2\n",
      "count: 17 \n",
      "https://www.reddit.com/r/HorrorMovies.json?after=t3_fvqq8g\n",
      "sleep: 3\n",
      "count: 18 \n",
      "https://www.reddit.com/r/HorrorMovies.json?after=t3_fstywx\n",
      "sleep: 3\n",
      "count: 19 \n",
      "https://www.reddit.com/r/HorrorMovies.json?after=t3_fo1ok7\n",
      "sleep: 3\n",
      "count: 20 \n",
      "https://www.reddit.com/r/HorrorMovies.json?after=t3_fj9h1x\n",
      "sleep: 2\n",
      "count: 21 \n",
      "https://www.reddit.com/r/HorrorMovies.json?after=t3_ffon6q\n",
      "sleep: 3\n",
      "count: 22 \n",
      "https://www.reddit.com/r/HorrorMovies.json?after=t3_fb2wzl\n",
      "sleep: 3\n",
      "count: 23 \n",
      "https://www.reddit.com/r/HorrorMovies.json?after=t3_f5kv8e\n",
      "sleep: 2\n",
      "count: 24 \n",
      "https://www.reddit.com/r/HorrorMovies.json?after=t3_f1c0m4\n",
      "sleep: 1\n",
      "count: 25 \n",
      "https://www.reddit.com/r/HorrorMovies.json?after=t3_evv8ps\n",
      "sleep: 2\n",
      "count: 26 \n",
      "https://www.reddit.com/r/HorrorMovies.json?after=t3_eq2gsz\n",
      "sleep: 2\n",
      "count: 27 \n",
      "https://www.reddit.com/r/HorrorMovies.json?after=t3_eimtih\n",
      "sleep: 3\n",
      "count: 28 \n",
      "https://www.reddit.com/r/HorrorMovies.json?after=t3_ahmrty\n",
      "sleep: 3\n",
      "count: 29 \n",
      "https://www.reddit.com/r/HorrorMovies.json?after=t3_aah2i1\n",
      "sleep: 1\n",
      "count: 30 \n",
      "https://www.reddit.com/r/HorrorMovies.json?after=t3_a4dvz5\n",
      "sleep: 2\n",
      "count: 31 \n",
      "https://www.reddit.com/r/HorrorMovies.json?after=t3_9x2qiw\n",
      "sleep: 3\n",
      "count: 32 \n",
      "https://www.reddit.com/r/HorrorMovies.json?after=t3_9s9v93\n",
      "sleep: 1\n",
      "count: 33 \n",
      "https://www.reddit.com/r/HorrorMovies.json?after=t3_9o9gvq\n",
      "sleep: 1\n",
      "count: 34 \n",
      "https://www.reddit.com/r/HorrorMovies.json?after=t3_9l4fiu\n",
      "sleep: 1\n",
      "count: 35 \n",
      "https://www.reddit.com/r/HorrorMovies.json?after=t3_9g0vj9\n",
      "sleep: 2\n",
      "count: 36 \n"
     ]
    },
    {
     "data": {
      "text/plain": [
       "895"
      ]
     },
     "execution_count": 10,
     "metadata": {},
     "output_type": "execute_result"
    }
   ],
   "source": [
    "#use get_data function to retrieve post from reddit and save as dataframe. \n",
    "get_data('horror_dict', horror_url, 'horror_data', 36)"
   ]
  },
  {
   "cell_type": "markdown",
   "metadata": {},
   "source": [
    "<div class=\"alert alert-block alert-info\">\n",
    "<b>Data Collection:</b> \n",
    "\n",
    "- I have collected 345 posts from the subreddit group \"scifimovies\"\n",
    "- I have collected 895 posts from the subreddit group \"HorrorMovies\" \n",
    "    \n",
    "There seeems to be imbalance data as horror subreddit group has more than twice the amount of post scifimovies has. I am not particularly worried about this as the data in \"scifimovies\" seem to contain good data. \n",
    "    \n",
    "I will avoid using accuracy as scoring for future models as it does not perform well with imbalanced data. \n",
    "    \n",
    "    \n",
    "    \n",
    "</div>"
   ]
  },
  {
   "cell_type": "code",
   "execution_count": 11,
   "metadata": {},
   "outputs": [],
   "source": [
    "#read both data sets\n",
    "sci_fi = pd.read_csv('../datasets/scifi_data.csv')\n",
    "horror = pd.read_csv('../datasets/horror_data.csv')"
   ]
  },
  {
   "cell_type": "markdown",
   "metadata": {},
   "source": [
    "***"
   ]
  },
  {
   "cell_type": "markdown",
   "metadata": {},
   "source": [
    "## 1.2 Initial View of the Data\n",
    "- Back to: [1.0 - Data Collection and Cleaning](#1.0-Data-Collection-and-Cleaning)\n",
    "- Go to [Defined Functions](#Defined-Functions:)"
   ]
  },
  {
   "cell_type": "code",
   "execution_count": 12,
   "metadata": {},
   "outputs": [
    {
     "data": {
      "text/html": [
       "<div>\n",
       "<style scoped>\n",
       "    .dataframe tbody tr th:only-of-type {\n",
       "        vertical-align: middle;\n",
       "    }\n",
       "\n",
       "    .dataframe tbody tr th {\n",
       "        vertical-align: top;\n",
       "    }\n",
       "\n",
       "    .dataframe thead th {\n",
       "        text-align: right;\n",
       "    }\n",
       "</style>\n",
       "<table border=\"1\" class=\"dataframe\">\n",
       "  <thead>\n",
       "    <tr style=\"text-align: right;\">\n",
       "      <th></th>\n",
       "      <th>approved_at_utc</th>\n",
       "      <th>subreddit</th>\n",
       "      <th>selftext</th>\n",
       "      <th>author_fullname</th>\n",
       "      <th>saved</th>\n",
       "      <th>mod_reason_title</th>\n",
       "      <th>gilded</th>\n",
       "      <th>clicked</th>\n",
       "      <th>title</th>\n",
       "      <th>link_flair_richtext</th>\n",
       "      <th>...</th>\n",
       "      <th>url</th>\n",
       "      <th>subreddit_subscribers</th>\n",
       "      <th>created_utc</th>\n",
       "      <th>num_crossposts</th>\n",
       "      <th>media</th>\n",
       "      <th>is_video</th>\n",
       "      <th>crosspost_parent_list</th>\n",
       "      <th>crosspost_parent</th>\n",
       "      <th>media_metadata</th>\n",
       "      <th>author_cakeday</th>\n",
       "    </tr>\n",
       "  </thead>\n",
       "  <tbody>\n",
       "    <tr>\n",
       "      <th>0</th>\n",
       "      <td>NaN</td>\n",
       "      <td>scifimovies</td>\n",
       "      <td>NaN</td>\n",
       "      <td>t2_5s3h6rkp</td>\n",
       "      <td>False</td>\n",
       "      <td>NaN</td>\n",
       "      <td>0</td>\n",
       "      <td>False</td>\n",
       "      <td>Earth vs the Flying Saucers (1956) movie trail...</td>\n",
       "      <td>[]</td>\n",
       "      <td>...</td>\n",
       "      <td>https://youtu.be/S2eebFMKpnU</td>\n",
       "      <td>790</td>\n",
       "      <td>1.592832e+09</td>\n",
       "      <td>0</td>\n",
       "      <td>{'type': 'youtube.com', 'oembed': {'provider_u...</td>\n",
       "      <td>False</td>\n",
       "      <td>NaN</td>\n",
       "      <td>NaN</td>\n",
       "      <td>NaN</td>\n",
       "      <td>NaN</td>\n",
       "    </tr>\n",
       "    <tr>\n",
       "      <th>1</th>\n",
       "      <td>NaN</td>\n",
       "      <td>scifimovies</td>\n",
       "      <td>NaN</td>\n",
       "      <td>t2_5s3h6rkp</td>\n",
       "      <td>False</td>\n",
       "      <td>NaN</td>\n",
       "      <td>0</td>\n",
       "      <td>False</td>\n",
       "      <td>It Lives Again 1974 movie trailer Plot: An epi...</td>\n",
       "      <td>[]</td>\n",
       "      <td>...</td>\n",
       "      <td>https://youtu.be/gebiEuLAyME</td>\n",
       "      <td>790</td>\n",
       "      <td>1.592831e+09</td>\n",
       "      <td>0</td>\n",
       "      <td>{'type': 'youtube.com', 'oembed': {'provider_u...</td>\n",
       "      <td>False</td>\n",
       "      <td>NaN</td>\n",
       "      <td>NaN</td>\n",
       "      <td>NaN</td>\n",
       "      <td>NaN</td>\n",
       "    </tr>\n",
       "    <tr>\n",
       "      <th>2</th>\n",
       "      <td>NaN</td>\n",
       "      <td>scifimovies</td>\n",
       "      <td>....</td>\n",
       "      <td>t2_63xg0g0d</td>\n",
       "      <td>False</td>\n",
       "      <td>NaN</td>\n",
       "      <td>0</td>\n",
       "      <td>False</td>\n",
       "      <td>Dredd is a good sci fi movie</td>\n",
       "      <td>[]</td>\n",
       "      <td>...</td>\n",
       "      <td>https://www.reddit.com/r/scifimovies/comments/...</td>\n",
       "      <td>790</td>\n",
       "      <td>1.592774e+09</td>\n",
       "      <td>0</td>\n",
       "      <td>NaN</td>\n",
       "      <td>False</td>\n",
       "      <td>NaN</td>\n",
       "      <td>NaN</td>\n",
       "      <td>NaN</td>\n",
       "      <td>NaN</td>\n",
       "    </tr>\n",
       "    <tr>\n",
       "      <th>3</th>\n",
       "      <td>NaN</td>\n",
       "      <td>scifimovies</td>\n",
       "      <td>NaN</td>\n",
       "      <td>t2_5s3h6rkp</td>\n",
       "      <td>False</td>\n",
       "      <td>NaN</td>\n",
       "      <td>0</td>\n",
       "      <td>False</td>\n",
       "      <td>The Unearthly 1957 movie trailer Plot: Mad doc...</td>\n",
       "      <td>[]</td>\n",
       "      <td>...</td>\n",
       "      <td>https://youtu.be/QF_B_Hf59HA</td>\n",
       "      <td>790</td>\n",
       "      <td>1.592739e+09</td>\n",
       "      <td>0</td>\n",
       "      <td>{'type': 'youtube.com', 'oembed': {'provider_u...</td>\n",
       "      <td>False</td>\n",
       "      <td>NaN</td>\n",
       "      <td>NaN</td>\n",
       "      <td>NaN</td>\n",
       "      <td>NaN</td>\n",
       "    </tr>\n",
       "    <tr>\n",
       "      <th>4</th>\n",
       "      <td>NaN</td>\n",
       "      <td>scifimovies</td>\n",
       "      <td>NaN</td>\n",
       "      <td>t2_gr6gdel</td>\n",
       "      <td>False</td>\n",
       "      <td>NaN</td>\n",
       "      <td>0</td>\n",
       "      <td>False</td>\n",
       "      <td>Sci-Fi Short Film - C600</td>\n",
       "      <td>[]</td>\n",
       "      <td>...</td>\n",
       "      <td>https://youtu.be/pZs4SYfU6pA</td>\n",
       "      <td>790</td>\n",
       "      <td>1.592739e+09</td>\n",
       "      <td>0</td>\n",
       "      <td>{'oembed': {'provider_url': 'https://www.youtu...</td>\n",
       "      <td>False</td>\n",
       "      <td>NaN</td>\n",
       "      <td>NaN</td>\n",
       "      <td>NaN</td>\n",
       "      <td>NaN</td>\n",
       "    </tr>\n",
       "  </tbody>\n",
       "</table>\n",
       "<p>5 rows × 110 columns</p>\n",
       "</div>"
      ],
      "text/plain": [
       "   approved_at_utc    subreddit selftext author_fullname  saved  \\\n",
       "0              NaN  scifimovies      NaN     t2_5s3h6rkp  False   \n",
       "1              NaN  scifimovies      NaN     t2_5s3h6rkp  False   \n",
       "2              NaN  scifimovies     ....     t2_63xg0g0d  False   \n",
       "3              NaN  scifimovies      NaN     t2_5s3h6rkp  False   \n",
       "4              NaN  scifimovies      NaN      t2_gr6gdel  False   \n",
       "\n",
       "   mod_reason_title  gilded  clicked  \\\n",
       "0               NaN       0    False   \n",
       "1               NaN       0    False   \n",
       "2               NaN       0    False   \n",
       "3               NaN       0    False   \n",
       "4               NaN       0    False   \n",
       "\n",
       "                                               title link_flair_richtext  ...  \\\n",
       "0  Earth vs the Flying Saucers (1956) movie trail...                  []  ...   \n",
       "1  It Lives Again 1974 movie trailer Plot: An epi...                  []  ...   \n",
       "2                       Dredd is a good sci fi movie                  []  ...   \n",
       "3  The Unearthly 1957 movie trailer Plot: Mad doc...                  []  ...   \n",
       "4                           Sci-Fi Short Film - C600                  []  ...   \n",
       "\n",
       "                                                 url  subreddit_subscribers  \\\n",
       "0                       https://youtu.be/S2eebFMKpnU                    790   \n",
       "1                       https://youtu.be/gebiEuLAyME                    790   \n",
       "2  https://www.reddit.com/r/scifimovies/comments/...                    790   \n",
       "3                       https://youtu.be/QF_B_Hf59HA                    790   \n",
       "4                       https://youtu.be/pZs4SYfU6pA                    790   \n",
       "\n",
       "    created_utc num_crossposts  \\\n",
       "0  1.592832e+09              0   \n",
       "1  1.592831e+09              0   \n",
       "2  1.592774e+09              0   \n",
       "3  1.592739e+09              0   \n",
       "4  1.592739e+09              0   \n",
       "\n",
       "                                               media  is_video  \\\n",
       "0  {'type': 'youtube.com', 'oembed': {'provider_u...     False   \n",
       "1  {'type': 'youtube.com', 'oembed': {'provider_u...     False   \n",
       "2                                                NaN     False   \n",
       "3  {'type': 'youtube.com', 'oembed': {'provider_u...     False   \n",
       "4  {'oembed': {'provider_url': 'https://www.youtu...     False   \n",
       "\n",
       "   crosspost_parent_list  crosspost_parent media_metadata  author_cakeday  \n",
       "0                    NaN               NaN            NaN             NaN  \n",
       "1                    NaN               NaN            NaN             NaN  \n",
       "2                    NaN               NaN            NaN             NaN  \n",
       "3                    NaN               NaN            NaN             NaN  \n",
       "4                    NaN               NaN            NaN             NaN  \n",
       "\n",
       "[5 rows x 110 columns]"
      ]
     },
     "execution_count": 12,
     "metadata": {},
     "output_type": "execute_result"
    }
   ],
   "source": [
    "#view first 5 rows\n",
    "sci_fi.head()"
   ]
  },
  {
   "cell_type": "code",
   "execution_count": 13,
   "metadata": {},
   "outputs": [
    {
     "data": {
      "text/html": [
       "<div>\n",
       "<style scoped>\n",
       "    .dataframe tbody tr th:only-of-type {\n",
       "        vertical-align: middle;\n",
       "    }\n",
       "\n",
       "    .dataframe tbody tr th {\n",
       "        vertical-align: top;\n",
       "    }\n",
       "\n",
       "    .dataframe thead th {\n",
       "        text-align: right;\n",
       "    }\n",
       "</style>\n",
       "<table border=\"1\" class=\"dataframe\">\n",
       "  <thead>\n",
       "    <tr style=\"text-align: right;\">\n",
       "      <th></th>\n",
       "      <th>approved_at_utc</th>\n",
       "      <th>subreddit</th>\n",
       "      <th>selftext</th>\n",
       "      <th>author_fullname</th>\n",
       "      <th>saved</th>\n",
       "      <th>mod_reason_title</th>\n",
       "      <th>gilded</th>\n",
       "      <th>clicked</th>\n",
       "      <th>title</th>\n",
       "      <th>link_flair_richtext</th>\n",
       "      <th>...</th>\n",
       "      <th>url</th>\n",
       "      <th>subreddit_subscribers</th>\n",
       "      <th>created_utc</th>\n",
       "      <th>num_crossposts</th>\n",
       "      <th>media</th>\n",
       "      <th>is_video</th>\n",
       "      <th>crosspost_parent_list</th>\n",
       "      <th>crosspost_parent</th>\n",
       "      <th>media_metadata</th>\n",
       "      <th>author_cakeday</th>\n",
       "    </tr>\n",
       "  </thead>\n",
       "  <tbody>\n",
       "    <tr>\n",
       "      <th>342</th>\n",
       "      <td>NaN</td>\n",
       "      <td>scifimovies</td>\n",
       "      <td>NaN</td>\n",
       "      <td>t2_3gkcp</td>\n",
       "      <td>False</td>\n",
       "      <td>NaN</td>\n",
       "      <td>0</td>\n",
       "      <td>False</td>\n",
       "      <td>Shoot First, No Questions Later — The Decline ...</td>\n",
       "      <td>[]</td>\n",
       "      <td>...</td>\n",
       "      <td>https://medium.com/geek-empire/863d21d793a6</td>\n",
       "      <td>790</td>\n",
       "      <td>1.377654e+09</td>\n",
       "      <td>0</td>\n",
       "      <td>NaN</td>\n",
       "      <td>False</td>\n",
       "      <td>NaN</td>\n",
       "      <td>NaN</td>\n",
       "      <td>NaN</td>\n",
       "      <td>NaN</td>\n",
       "    </tr>\n",
       "    <tr>\n",
       "      <th>343</th>\n",
       "      <td>NaN</td>\n",
       "      <td>scifimovies</td>\n",
       "      <td>NaN</td>\n",
       "      <td>t2_3gkcp</td>\n",
       "      <td>False</td>\n",
       "      <td>NaN</td>\n",
       "      <td>0</td>\n",
       "      <td>False</td>\n",
       "      <td>Starship Size Chart</td>\n",
       "      <td>[]</td>\n",
       "      <td>...</td>\n",
       "      <td>http://i.imgur.com/itBXFu0.jpg</td>\n",
       "      <td>790</td>\n",
       "      <td>1.377487e+09</td>\n",
       "      <td>0</td>\n",
       "      <td>NaN</td>\n",
       "      <td>False</td>\n",
       "      <td>NaN</td>\n",
       "      <td>NaN</td>\n",
       "      <td>NaN</td>\n",
       "      <td>NaN</td>\n",
       "    </tr>\n",
       "    <tr>\n",
       "      <th>344</th>\n",
       "      <td>NaN</td>\n",
       "      <td>scifimovies</td>\n",
       "      <td>NaN</td>\n",
       "      <td>t2_3gkcp</td>\n",
       "      <td>False</td>\n",
       "      <td>NaN</td>\n",
       "      <td>0</td>\n",
       "      <td>False</td>\n",
       "      <td>50 high res pics by Syd Mead, visual futurist ...</td>\n",
       "      <td>[]</td>\n",
       "      <td>...</td>\n",
       "      <td>http://imgur.com/a/s9Oyr</td>\n",
       "      <td>790</td>\n",
       "      <td>1.377487e+09</td>\n",
       "      <td>0</td>\n",
       "      <td>{'type': 'imgur.com', 'oembed': {'provider_url...</td>\n",
       "      <td>False</td>\n",
       "      <td>NaN</td>\n",
       "      <td>NaN</td>\n",
       "      <td>NaN</td>\n",
       "      <td>NaN</td>\n",
       "    </tr>\n",
       "    <tr>\n",
       "      <th>345</th>\n",
       "      <td>NaN</td>\n",
       "      <td>scifimovies</td>\n",
       "      <td>NaN</td>\n",
       "      <td>t2_3gkcp</td>\n",
       "      <td>False</td>\n",
       "      <td>NaN</td>\n",
       "      <td>0</td>\n",
       "      <td>False</td>\n",
       "      <td>District 9 creator Neill Blomkamp has started ...</td>\n",
       "      <td>[]</td>\n",
       "      <td>...</td>\n",
       "      <td>http://www.themarysue.com/district-9-sequel-di...</td>\n",
       "      <td>790</td>\n",
       "      <td>1.374418e+09</td>\n",
       "      <td>0</td>\n",
       "      <td>NaN</td>\n",
       "      <td>False</td>\n",
       "      <td>NaN</td>\n",
       "      <td>NaN</td>\n",
       "      <td>NaN</td>\n",
       "      <td>NaN</td>\n",
       "    </tr>\n",
       "    <tr>\n",
       "      <th>346</th>\n",
       "      <td>NaN</td>\n",
       "      <td>scifimovies</td>\n",
       "      <td>This is a list of some good sci-fi \"alien cont...</td>\n",
       "      <td>t2_53wsj</td>\n",
       "      <td>False</td>\n",
       "      <td>NaN</td>\n",
       "      <td>0</td>\n",
       "      <td>False</td>\n",
       "      <td>Top \"Alien Contact\" Movies</td>\n",
       "      <td>[]</td>\n",
       "      <td>...</td>\n",
       "      <td>https://www.reddit.com/r/scifimovies/comments/...</td>\n",
       "      <td>790</td>\n",
       "      <td>1.312261e+09</td>\n",
       "      <td>0</td>\n",
       "      <td>NaN</td>\n",
       "      <td>False</td>\n",
       "      <td>NaN</td>\n",
       "      <td>NaN</td>\n",
       "      <td>NaN</td>\n",
       "      <td>NaN</td>\n",
       "    </tr>\n",
       "  </tbody>\n",
       "</table>\n",
       "<p>5 rows × 110 columns</p>\n",
       "</div>"
      ],
      "text/plain": [
       "     approved_at_utc    subreddit  \\\n",
       "342              NaN  scifimovies   \n",
       "343              NaN  scifimovies   \n",
       "344              NaN  scifimovies   \n",
       "345              NaN  scifimovies   \n",
       "346              NaN  scifimovies   \n",
       "\n",
       "                                              selftext author_fullname  saved  \\\n",
       "342                                                NaN        t2_3gkcp  False   \n",
       "343                                                NaN        t2_3gkcp  False   \n",
       "344                                                NaN        t2_3gkcp  False   \n",
       "345                                                NaN        t2_3gkcp  False   \n",
       "346  This is a list of some good sci-fi \"alien cont...        t2_53wsj  False   \n",
       "\n",
       "     mod_reason_title  gilded  clicked  \\\n",
       "342               NaN       0    False   \n",
       "343               NaN       0    False   \n",
       "344               NaN       0    False   \n",
       "345               NaN       0    False   \n",
       "346               NaN       0    False   \n",
       "\n",
       "                                                 title link_flair_richtext  \\\n",
       "342  Shoot First, No Questions Later — The Decline ...                  []   \n",
       "343                                Starship Size Chart                  []   \n",
       "344  50 high res pics by Syd Mead, visual futurist ...                  []   \n",
       "345  District 9 creator Neill Blomkamp has started ...                  []   \n",
       "346                         Top \"Alien Contact\" Movies                  []   \n",
       "\n",
       "     ...                                                url  \\\n",
       "342  ...        https://medium.com/geek-empire/863d21d793a6   \n",
       "343  ...                     http://i.imgur.com/itBXFu0.jpg   \n",
       "344  ...                           http://imgur.com/a/s9Oyr   \n",
       "345  ...  http://www.themarysue.com/district-9-sequel-di...   \n",
       "346  ...  https://www.reddit.com/r/scifimovies/comments/...   \n",
       "\n",
       "     subreddit_subscribers   created_utc num_crossposts  \\\n",
       "342                    790  1.377654e+09              0   \n",
       "343                    790  1.377487e+09              0   \n",
       "344                    790  1.377487e+09              0   \n",
       "345                    790  1.374418e+09              0   \n",
       "346                    790  1.312261e+09              0   \n",
       "\n",
       "                                                 media  is_video  \\\n",
       "342                                                NaN     False   \n",
       "343                                                NaN     False   \n",
       "344  {'type': 'imgur.com', 'oembed': {'provider_url...     False   \n",
       "345                                                NaN     False   \n",
       "346                                                NaN     False   \n",
       "\n",
       "     crosspost_parent_list  crosspost_parent media_metadata  author_cakeday  \n",
       "342                    NaN               NaN            NaN             NaN  \n",
       "343                    NaN               NaN            NaN             NaN  \n",
       "344                    NaN               NaN            NaN             NaN  \n",
       "345                    NaN               NaN            NaN             NaN  \n",
       "346                    NaN               NaN            NaN             NaN  \n",
       "\n",
       "[5 rows x 110 columns]"
      ]
     },
     "execution_count": 13,
     "metadata": {},
     "output_type": "execute_result"
    }
   ],
   "source": [
    "#view last 5 rows\n",
    "sci_fi.tail()"
   ]
  },
  {
   "cell_type": "code",
   "execution_count": 14,
   "metadata": {},
   "outputs": [
    {
     "name": "stdout",
     "output_type": "stream",
     "text": [
      "<class 'pandas.core.frame.DataFrame'>\n",
      "RangeIndex: 347 entries, 0 to 346\n",
      "Columns: 110 entries, approved_at_utc to author_cakeday\n",
      "dtypes: bool(26), float64(34), int64(8), object(42)\n",
      "memory usage: 236.7+ KB\n"
     ]
    }
   ],
   "source": [
    "#view information about dataframe\n",
    "sci_fi.info()"
   ]
  },
  {
   "cell_type": "code",
   "execution_count": 15,
   "metadata": {},
   "outputs": [
    {
     "data": {
      "text/plain": [
       "(347, 110)"
      ]
     },
     "execution_count": 15,
     "metadata": {},
     "output_type": "execute_result"
    }
   ],
   "source": [
    "#view shape\n",
    "sci_fi.shape"
   ]
  },
  {
   "cell_type": "code",
   "execution_count": 16,
   "metadata": {
    "scrolled": true
   },
   "outputs": [
    {
     "data": {
      "text/plain": [
       "Index(['approved_at_utc', 'subreddit', 'selftext', 'author_fullname', 'saved',\n",
       "       'mod_reason_title', 'gilded', 'clicked', 'title', 'link_flair_richtext',\n",
       "       ...\n",
       "       'url', 'subreddit_subscribers', 'created_utc', 'num_crossposts',\n",
       "       'media', 'is_video', 'crosspost_parent_list', 'crosspost_parent',\n",
       "       'media_metadata', 'author_cakeday'],\n",
       "      dtype='object', length=110)"
      ]
     },
     "execution_count": 16,
     "metadata": {},
     "output_type": "execute_result"
    }
   ],
   "source": [
    "#view columns\n",
    "sci_fi.columns"
   ]
  },
  {
   "cell_type": "code",
   "execution_count": 17,
   "metadata": {
    "scrolled": false
   },
   "outputs": [
    {
     "name": "stdout",
     "output_type": "stream",
     "text": [
      "[nan]\n",
      "['[]']\n",
      "[False]\n"
     ]
    }
   ],
   "source": [
    "#check for moderated post\n",
    "viewuni(sci_fi, 'mod_reason_title')\n",
    "viewuni(sci_fi, 'mod_reports')\n",
    "viewuni(sci_fi, 'quarantine')"
   ]
  },
  {
   "cell_type": "code",
   "execution_count": 18,
   "metadata": {},
   "outputs": [
    {
     "name": "stdout",
     "output_type": "stream",
     "text": [
      "selftext nulls: 268\n",
      "title nulls: 0\n",
      "subreddit nulls: 0\n"
     ]
    }
   ],
   "source": [
    "#view null counts\n",
    "null_count(sci_fi, 'selftext')\n",
    "null_count(sci_fi,'title')\n",
    "null_count(sci_fi,'subreddit')"
   ]
  },
  {
   "cell_type": "code",
   "execution_count": 19,
   "metadata": {},
   "outputs": [
    {
     "name": "stdout",
     "output_type": "stream",
     "text": [
      "scifimovies    347\n",
      "Name: subreddit, dtype: int64\n"
     ]
    }
   ],
   "source": [
    "#check unqiue values for 'subreddit'\n",
    "val_count(sci_fi, 'subreddit')"
   ]
  },
  {
   "cell_type": "markdown",
   "metadata": {},
   "source": [
    "<div class=\"alert alert-block alert-info\">\n",
    "<b>Initial View (Sci_fi):</b> \n",
    "\n",
    "- There are 110 columns: we are only looking at 3 columns of interest 'subreddit', 'selftext' and 'title'. \n",
    "    \n",
    "- There are no values in moderated columns\n",
    "    \n",
    "- There is only one variable under 'subreddit' : scifimovies\n",
    "    \n",
    "- 'selftext' column has 267 null values which we will impute with 'none' in the cleaning stage.\n",
    "\n",
    "</div>"
   ]
  },
  {
   "cell_type": "markdown",
   "metadata": {},
   "source": [
    "***"
   ]
  },
  {
   "cell_type": "code",
   "execution_count": 20,
   "metadata": {
    "scrolled": true
   },
   "outputs": [
    {
     "data": {
      "text/html": [
       "<div>\n",
       "<style scoped>\n",
       "    .dataframe tbody tr th:only-of-type {\n",
       "        vertical-align: middle;\n",
       "    }\n",
       "\n",
       "    .dataframe tbody tr th {\n",
       "        vertical-align: top;\n",
       "    }\n",
       "\n",
       "    .dataframe thead th {\n",
       "        text-align: right;\n",
       "    }\n",
       "</style>\n",
       "<table border=\"1\" class=\"dataframe\">\n",
       "  <thead>\n",
       "    <tr style=\"text-align: right;\">\n",
       "      <th></th>\n",
       "      <th>approved_at_utc</th>\n",
       "      <th>subreddit</th>\n",
       "      <th>selftext</th>\n",
       "      <th>author_fullname</th>\n",
       "      <th>saved</th>\n",
       "      <th>mod_reason_title</th>\n",
       "      <th>gilded</th>\n",
       "      <th>clicked</th>\n",
       "      <th>title</th>\n",
       "      <th>link_flair_richtext</th>\n",
       "      <th>...</th>\n",
       "      <th>subreddit_subscribers</th>\n",
       "      <th>created_utc</th>\n",
       "      <th>num_crossposts</th>\n",
       "      <th>media</th>\n",
       "      <th>is_video</th>\n",
       "      <th>post_hint</th>\n",
       "      <th>preview</th>\n",
       "      <th>crosspost_parent_list</th>\n",
       "      <th>crosspost_parent</th>\n",
       "      <th>author_cakeday</th>\n",
       "    </tr>\n",
       "  </thead>\n",
       "  <tbody>\n",
       "    <tr>\n",
       "      <th>0</th>\n",
       "      <td>NaN</td>\n",
       "      <td>HorrorMovies</td>\n",
       "      <td>1. No promotion spamming. This includes YouTub...</td>\n",
       "      <td>t2_3o8fm</td>\n",
       "      <td>False</td>\n",
       "      <td>NaN</td>\n",
       "      <td>0</td>\n",
       "      <td>False</td>\n",
       "      <td>Official Rules.</td>\n",
       "      <td>[]</td>\n",
       "      <td>...</td>\n",
       "      <td>6884</td>\n",
       "      <td>1.507160e+09</td>\n",
       "      <td>0</td>\n",
       "      <td>NaN</td>\n",
       "      <td>False</td>\n",
       "      <td>NaN</td>\n",
       "      <td>NaN</td>\n",
       "      <td>NaN</td>\n",
       "      <td>NaN</td>\n",
       "      <td>NaN</td>\n",
       "    </tr>\n",
       "    <tr>\n",
       "      <th>1</th>\n",
       "      <td>NaN</td>\n",
       "      <td>HorrorMovies</td>\n",
       "      <td>I've been having to remove a bunch of posts an...</td>\n",
       "      <td>t2_3o8fm</td>\n",
       "      <td>False</td>\n",
       "      <td>NaN</td>\n",
       "      <td>0</td>\n",
       "      <td>False</td>\n",
       "      <td>Reminder: read the rules please.</td>\n",
       "      <td>[]</td>\n",
       "      <td>...</td>\n",
       "      <td>6884</td>\n",
       "      <td>1.592508e+09</td>\n",
       "      <td>0</td>\n",
       "      <td>NaN</td>\n",
       "      <td>False</td>\n",
       "      <td>NaN</td>\n",
       "      <td>NaN</td>\n",
       "      <td>NaN</td>\n",
       "      <td>NaN</td>\n",
       "      <td>NaN</td>\n",
       "    </tr>\n",
       "    <tr>\n",
       "      <th>2</th>\n",
       "      <td>NaN</td>\n",
       "      <td>HorrorMovies</td>\n",
       "      <td>NaN</td>\n",
       "      <td>t2_4mb4c1lg</td>\n",
       "      <td>False</td>\n",
       "      <td>NaN</td>\n",
       "      <td>0</td>\n",
       "      <td>False</td>\n",
       "      <td>J.A.S.O.N.</td>\n",
       "      <td>[]</td>\n",
       "      <td>...</td>\n",
       "      <td>6884</td>\n",
       "      <td>1.592751e+09</td>\n",
       "      <td>0</td>\n",
       "      <td>NaN</td>\n",
       "      <td>False</td>\n",
       "      <td>image</td>\n",
       "      <td>{'images': [{'source': {'url': 'https://previe...</td>\n",
       "      <td>NaN</td>\n",
       "      <td>NaN</td>\n",
       "      <td>NaN</td>\n",
       "    </tr>\n",
       "    <tr>\n",
       "      <th>3</th>\n",
       "      <td>NaN</td>\n",
       "      <td>HorrorMovies</td>\n",
       "      <td>Just finished watching \"The Autopsy of Jane Do...</td>\n",
       "      <td>t2_54h5rewu</td>\n",
       "      <td>False</td>\n",
       "      <td>NaN</td>\n",
       "      <td>0</td>\n",
       "      <td>False</td>\n",
       "      <td>Thoughts on \"The Autopsy of Jane Doe\"</td>\n",
       "      <td>[]</td>\n",
       "      <td>...</td>\n",
       "      <td>6884</td>\n",
       "      <td>1.592791e+09</td>\n",
       "      <td>0</td>\n",
       "      <td>NaN</td>\n",
       "      <td>False</td>\n",
       "      <td>NaN</td>\n",
       "      <td>NaN</td>\n",
       "      <td>NaN</td>\n",
       "      <td>NaN</td>\n",
       "      <td>NaN</td>\n",
       "    </tr>\n",
       "    <tr>\n",
       "      <th>4</th>\n",
       "      <td>NaN</td>\n",
       "      <td>HorrorMovies</td>\n",
       "      <td>NaN</td>\n",
       "      <td>t2_6bj49szw</td>\n",
       "      <td>False</td>\n",
       "      <td>NaN</td>\n",
       "      <td>0</td>\n",
       "      <td>False</td>\n",
       "      <td>Hey...so I know it's a bit late but 1 month af...</td>\n",
       "      <td>[]</td>\n",
       "      <td>...</td>\n",
       "      <td>6884</td>\n",
       "      <td>1.592757e+09</td>\n",
       "      <td>0</td>\n",
       "      <td>NaN</td>\n",
       "      <td>False</td>\n",
       "      <td>image</td>\n",
       "      <td>{'images': [{'source': {'url': 'https://previe...</td>\n",
       "      <td>NaN</td>\n",
       "      <td>NaN</td>\n",
       "      <td>NaN</td>\n",
       "    </tr>\n",
       "  </tbody>\n",
       "</table>\n",
       "<p>5 rows × 109 columns</p>\n",
       "</div>"
      ],
      "text/plain": [
       "   approved_at_utc     subreddit  \\\n",
       "0              NaN  HorrorMovies   \n",
       "1              NaN  HorrorMovies   \n",
       "2              NaN  HorrorMovies   \n",
       "3              NaN  HorrorMovies   \n",
       "4              NaN  HorrorMovies   \n",
       "\n",
       "                                            selftext author_fullname  saved  \\\n",
       "0  1. No promotion spamming. This includes YouTub...        t2_3o8fm  False   \n",
       "1  I've been having to remove a bunch of posts an...        t2_3o8fm  False   \n",
       "2                                                NaN     t2_4mb4c1lg  False   \n",
       "3  Just finished watching \"The Autopsy of Jane Do...     t2_54h5rewu  False   \n",
       "4                                                NaN     t2_6bj49szw  False   \n",
       "\n",
       "   mod_reason_title  gilded  clicked  \\\n",
       "0               NaN       0    False   \n",
       "1               NaN       0    False   \n",
       "2               NaN       0    False   \n",
       "3               NaN       0    False   \n",
       "4               NaN       0    False   \n",
       "\n",
       "                                               title link_flair_richtext  ...  \\\n",
       "0                                    Official Rules.                  []  ...   \n",
       "1                   Reminder: read the rules please.                  []  ...   \n",
       "2                                         J.A.S.O.N.                  []  ...   \n",
       "3              Thoughts on \"The Autopsy of Jane Doe\"                  []  ...   \n",
       "4  Hey...so I know it's a bit late but 1 month af...                  []  ...   \n",
       "\n",
       "  subreddit_subscribers   created_utc  num_crossposts  media  is_video  \\\n",
       "0                  6884  1.507160e+09               0    NaN     False   \n",
       "1                  6884  1.592508e+09               0    NaN     False   \n",
       "2                  6884  1.592751e+09               0    NaN     False   \n",
       "3                  6884  1.592791e+09               0    NaN     False   \n",
       "4                  6884  1.592757e+09               0    NaN     False   \n",
       "\n",
       "   post_hint                                            preview  \\\n",
       "0        NaN                                                NaN   \n",
       "1        NaN                                                NaN   \n",
       "2      image  {'images': [{'source': {'url': 'https://previe...   \n",
       "3        NaN                                                NaN   \n",
       "4      image  {'images': [{'source': {'url': 'https://previe...   \n",
       "\n",
       "   crosspost_parent_list crosspost_parent  author_cakeday  \n",
       "0                    NaN              NaN             NaN  \n",
       "1                    NaN              NaN             NaN  \n",
       "2                    NaN              NaN             NaN  \n",
       "3                    NaN              NaN             NaN  \n",
       "4                    NaN              NaN             NaN  \n",
       "\n",
       "[5 rows x 109 columns]"
      ]
     },
     "execution_count": 20,
     "metadata": {},
     "output_type": "execute_result"
    }
   ],
   "source": [
    "#view first 5 rows\n",
    "horror.head()"
   ]
  },
  {
   "cell_type": "code",
   "execution_count": 21,
   "metadata": {},
   "outputs": [
    {
     "data": {
      "text/html": [
       "<div>\n",
       "<style scoped>\n",
       "    .dataframe tbody tr th:only-of-type {\n",
       "        vertical-align: middle;\n",
       "    }\n",
       "\n",
       "    .dataframe tbody tr th {\n",
       "        vertical-align: top;\n",
       "    }\n",
       "\n",
       "    .dataframe thead th {\n",
       "        text-align: right;\n",
       "    }\n",
       "</style>\n",
       "<table border=\"1\" class=\"dataframe\">\n",
       "  <thead>\n",
       "    <tr style=\"text-align: right;\">\n",
       "      <th></th>\n",
       "      <th>approved_at_utc</th>\n",
       "      <th>subreddit</th>\n",
       "      <th>selftext</th>\n",
       "      <th>author_fullname</th>\n",
       "      <th>saved</th>\n",
       "      <th>mod_reason_title</th>\n",
       "      <th>gilded</th>\n",
       "      <th>clicked</th>\n",
       "      <th>title</th>\n",
       "      <th>link_flair_richtext</th>\n",
       "      <th>...</th>\n",
       "      <th>subreddit_subscribers</th>\n",
       "      <th>created_utc</th>\n",
       "      <th>num_crossposts</th>\n",
       "      <th>media</th>\n",
       "      <th>is_video</th>\n",
       "      <th>post_hint</th>\n",
       "      <th>preview</th>\n",
       "      <th>crosspost_parent_list</th>\n",
       "      <th>crosspost_parent</th>\n",
       "      <th>author_cakeday</th>\n",
       "    </tr>\n",
       "  </thead>\n",
       "  <tbody>\n",
       "    <tr>\n",
       "      <th>890</th>\n",
       "      <td>NaN</td>\n",
       "      <td>HorrorMovies</td>\n",
       "      <td>I recently watched Hereditary. The horror movi...</td>\n",
       "      <td>t2_25zas02y</td>\n",
       "      <td>False</td>\n",
       "      <td>NaN</td>\n",
       "      <td>0</td>\n",
       "      <td>False</td>\n",
       "      <td>Am I the only one who thinks Hereditary sucks?</td>\n",
       "      <td>[]</td>\n",
       "      <td>...</td>\n",
       "      <td>6884</td>\n",
       "      <td>1.536496e+09</td>\n",
       "      <td>0</td>\n",
       "      <td>NaN</td>\n",
       "      <td>False</td>\n",
       "      <td>NaN</td>\n",
       "      <td>NaN</td>\n",
       "      <td>NaN</td>\n",
       "      <td>NaN</td>\n",
       "      <td>NaN</td>\n",
       "    </tr>\n",
       "    <tr>\n",
       "      <th>891</th>\n",
       "      <td>NaN</td>\n",
       "      <td>HorrorMovies</td>\n",
       "      <td>It used to be on the Verizon channel called Fe...</td>\n",
       "      <td>t2_22u3ylhh</td>\n",
       "      <td>False</td>\n",
       "      <td>NaN</td>\n",
       "      <td>0</td>\n",
       "      <td>False</td>\n",
       "      <td>Someone PLEASE help me find the name of this m...</td>\n",
       "      <td>[]</td>\n",
       "      <td>...</td>\n",
       "      <td>6884</td>\n",
       "      <td>1.536531e+09</td>\n",
       "      <td>0</td>\n",
       "      <td>NaN</td>\n",
       "      <td>False</td>\n",
       "      <td>NaN</td>\n",
       "      <td>NaN</td>\n",
       "      <td>NaN</td>\n",
       "      <td>NaN</td>\n",
       "      <td>NaN</td>\n",
       "    </tr>\n",
       "    <tr>\n",
       "      <th>892</th>\n",
       "      <td>NaN</td>\n",
       "      <td>HorrorMovies</td>\n",
       "      <td>Early today, I finally sat down and watched He...</td>\n",
       "      <td>t2_252c0luy</td>\n",
       "      <td>False</td>\n",
       "      <td>NaN</td>\n",
       "      <td>0</td>\n",
       "      <td>False</td>\n",
       "      <td>Movie Recommendations for those who don't scar...</td>\n",
       "      <td>[]</td>\n",
       "      <td>...</td>\n",
       "      <td>6884</td>\n",
       "      <td>1.536551e+09</td>\n",
       "      <td>0</td>\n",
       "      <td>NaN</td>\n",
       "      <td>False</td>\n",
       "      <td>NaN</td>\n",
       "      <td>NaN</td>\n",
       "      <td>NaN</td>\n",
       "      <td>NaN</td>\n",
       "      <td>NaN</td>\n",
       "    </tr>\n",
       "    <tr>\n",
       "      <th>893</th>\n",
       "      <td>NaN</td>\n",
       "      <td>HorrorMovies</td>\n",
       "      <td>soooo i watched the nun last night and it was ...</td>\n",
       "      <td>t2_7k1vrvc</td>\n",
       "      <td>False</td>\n",
       "      <td>NaN</td>\n",
       "      <td>0</td>\n",
       "      <td>False</td>\n",
       "      <td>wached the nun last night</td>\n",
       "      <td>[]</td>\n",
       "      <td>...</td>\n",
       "      <td>6884</td>\n",
       "      <td>1.536425e+09</td>\n",
       "      <td>0</td>\n",
       "      <td>NaN</td>\n",
       "      <td>False</td>\n",
       "      <td>NaN</td>\n",
       "      <td>NaN</td>\n",
       "      <td>NaN</td>\n",
       "      <td>NaN</td>\n",
       "      <td>NaN</td>\n",
       "    </tr>\n",
       "    <tr>\n",
       "      <th>894</th>\n",
       "      <td>NaN</td>\n",
       "      <td>HorrorMovies</td>\n",
       "      <td>Can you guys help me find the title of the mov...</td>\n",
       "      <td>t2_13x922</td>\n",
       "      <td>False</td>\n",
       "      <td>NaN</td>\n",
       "      <td>0</td>\n",
       "      <td>False</td>\n",
       "      <td>Some halloween movie I watched as a kid</td>\n",
       "      <td>[]</td>\n",
       "      <td>...</td>\n",
       "      <td>6884</td>\n",
       "      <td>1.536410e+09</td>\n",
       "      <td>0</td>\n",
       "      <td>NaN</td>\n",
       "      <td>False</td>\n",
       "      <td>NaN</td>\n",
       "      <td>NaN</td>\n",
       "      <td>NaN</td>\n",
       "      <td>NaN</td>\n",
       "      <td>NaN</td>\n",
       "    </tr>\n",
       "  </tbody>\n",
       "</table>\n",
       "<p>5 rows × 109 columns</p>\n",
       "</div>"
      ],
      "text/plain": [
       "     approved_at_utc     subreddit  \\\n",
       "890              NaN  HorrorMovies   \n",
       "891              NaN  HorrorMovies   \n",
       "892              NaN  HorrorMovies   \n",
       "893              NaN  HorrorMovies   \n",
       "894              NaN  HorrorMovies   \n",
       "\n",
       "                                              selftext author_fullname  saved  \\\n",
       "890  I recently watched Hereditary. The horror movi...     t2_25zas02y  False   \n",
       "891  It used to be on the Verizon channel called Fe...     t2_22u3ylhh  False   \n",
       "892  Early today, I finally sat down and watched He...     t2_252c0luy  False   \n",
       "893  soooo i watched the nun last night and it was ...      t2_7k1vrvc  False   \n",
       "894  Can you guys help me find the title of the mov...       t2_13x922  False   \n",
       "\n",
       "     mod_reason_title  gilded  clicked  \\\n",
       "890               NaN       0    False   \n",
       "891               NaN       0    False   \n",
       "892               NaN       0    False   \n",
       "893               NaN       0    False   \n",
       "894               NaN       0    False   \n",
       "\n",
       "                                                 title link_flair_richtext  \\\n",
       "890     Am I the only one who thinks Hereditary sucks?                  []   \n",
       "891  Someone PLEASE help me find the name of this m...                  []   \n",
       "892  Movie Recommendations for those who don't scar...                  []   \n",
       "893                          wached the nun last night                  []   \n",
       "894            Some halloween movie I watched as a kid                  []   \n",
       "\n",
       "     ... subreddit_subscribers   created_utc  num_crossposts  media  is_video  \\\n",
       "890  ...                  6884  1.536496e+09               0    NaN     False   \n",
       "891  ...                  6884  1.536531e+09               0    NaN     False   \n",
       "892  ...                  6884  1.536551e+09               0    NaN     False   \n",
       "893  ...                  6884  1.536425e+09               0    NaN     False   \n",
       "894  ...                  6884  1.536410e+09               0    NaN     False   \n",
       "\n",
       "     post_hint  preview  crosspost_parent_list crosspost_parent  \\\n",
       "890        NaN      NaN                    NaN              NaN   \n",
       "891        NaN      NaN                    NaN              NaN   \n",
       "892        NaN      NaN                    NaN              NaN   \n",
       "893        NaN      NaN                    NaN              NaN   \n",
       "894        NaN      NaN                    NaN              NaN   \n",
       "\n",
       "     author_cakeday  \n",
       "890             NaN  \n",
       "891             NaN  \n",
       "892             NaN  \n",
       "893             NaN  \n",
       "894             NaN  \n",
       "\n",
       "[5 rows x 109 columns]"
      ]
     },
     "execution_count": 21,
     "metadata": {},
     "output_type": "execute_result"
    }
   ],
   "source": [
    "#view last 5 rows\n",
    "horror.tail()"
   ]
  },
  {
   "cell_type": "code",
   "execution_count": 22,
   "metadata": {},
   "outputs": [
    {
     "name": "stdout",
     "output_type": "stream",
     "text": [
      "<class 'pandas.core.frame.DataFrame'>\n",
      "RangeIndex: 895 entries, 0 to 894\n",
      "Columns: 109 entries, approved_at_utc to author_cakeday\n",
      "dtypes: bool(26), float64(35), int64(8), object(40)\n",
      "memory usage: 603.2+ KB\n"
     ]
    }
   ],
   "source": [
    "#view information about dataframe\n",
    "horror.info()"
   ]
  },
  {
   "cell_type": "code",
   "execution_count": 23,
   "metadata": {},
   "outputs": [
    {
     "data": {
      "text/plain": [
       "(895, 109)"
      ]
     },
     "execution_count": 23,
     "metadata": {},
     "output_type": "execute_result"
    }
   ],
   "source": [
    "#view shape\n",
    "horror.shape"
   ]
  },
  {
   "cell_type": "code",
   "execution_count": 24,
   "metadata": {},
   "outputs": [
    {
     "data": {
      "text/plain": [
       "Index(['approved_at_utc', 'subreddit', 'selftext', 'author_fullname', 'saved',\n",
       "       'mod_reason_title', 'gilded', 'clicked', 'title', 'link_flair_richtext',\n",
       "       ...\n",
       "       'subreddit_subscribers', 'created_utc', 'num_crossposts', 'media',\n",
       "       'is_video', 'post_hint', 'preview', 'crosspost_parent_list',\n",
       "       'crosspost_parent', 'author_cakeday'],\n",
       "      dtype='object', length=109)"
      ]
     },
     "execution_count": 24,
     "metadata": {},
     "output_type": "execute_result"
    }
   ],
   "source": [
    "#view columns\n",
    "horror.columns"
   ]
  },
  {
   "cell_type": "code",
   "execution_count": 25,
   "metadata": {},
   "outputs": [
    {
     "name": "stdout",
     "output_type": "stream",
     "text": [
      "[nan]\n",
      "['[]']\n",
      "[False]\n"
     ]
    }
   ],
   "source": [
    "#check for moderated post\n",
    "viewuni(horror, 'mod_reason_title')\n",
    "viewuni(horror, 'mod_reports')\n",
    "viewuni(horror, 'quarantine')"
   ]
  },
  {
   "cell_type": "code",
   "execution_count": 26,
   "metadata": {},
   "outputs": [
    {
     "name": "stdout",
     "output_type": "stream",
     "text": [
      "selftext nulls: 67\n",
      "title nulls: 0\n",
      "subreddit nulls: 0\n"
     ]
    }
   ],
   "source": [
    "#view null counts\n",
    "null_count(horror, 'selftext')\n",
    "null_count(horror,'title')\n",
    "null_count(horror,'subreddit')"
   ]
  },
  {
   "cell_type": "code",
   "execution_count": 27,
   "metadata": {},
   "outputs": [
    {
     "name": "stdout",
     "output_type": "stream",
     "text": [
      "HorrorMovies    895\n",
      "Name: subreddit, dtype: int64\n"
     ]
    }
   ],
   "source": [
    "#check unqiue values for 'subreddit'\n",
    "val_count(horror, 'subreddit')"
   ]
  },
  {
   "cell_type": "markdown",
   "metadata": {},
   "source": [
    "<div class=\"alert alert-block alert-info\">\n",
    "<b>Initial View (Horror):</b> \n",
    " \n",
    "\n",
    "- There are 109 columns: we are only looking at 3 columns of interest 'subreddit', 'selftext' and 'title'. \n",
    "    \n",
    "- There are no values in  moderated columns\n",
    "    \n",
    "- There is only one variable under 'subreddit' : HorrorMovies\n",
    "    \n",
    "- 'selftext' column has 67 null values which we will impute with 'none' in the cleaning stage.\n",
    "    \n",
    "- index 0 and 1 belong to rules and instructions and will be dropped.\n",
    "\n",
    "</div>"
   ]
  },
  {
   "cell_type": "markdown",
   "metadata": {},
   "source": [
    "***"
   ]
  },
  {
   "cell_type": "markdown",
   "metadata": {},
   "source": [
    "## 1.3 Cleaning of the Data\n",
    "\n",
    "- Back to: [1.0 - Data Collection and Cleaning](#1.0-Data-Collection-and-Cleaning)\n",
    "- Go to [Defined Functions](#Defined-Functions:)"
   ]
  },
  {
   "cell_type": "code",
   "execution_count": 28,
   "metadata": {},
   "outputs": [],
   "source": [
    "#dropping index 0 and 1 from Horror\n",
    "horror.drop([0,1], axis=0, inplace=True)"
   ]
  },
  {
   "cell_type": "code",
   "execution_count": 29,
   "metadata": {},
   "outputs": [],
   "source": [
    "#replace nulls to \"None\"\n",
    "replace_val(sci_fi, 'selftext', np.nan, 'None')\n",
    "replace_val(horror, 'selftext', np.nan, 'None')"
   ]
  },
  {
   "cell_type": "code",
   "execution_count": 30,
   "metadata": {},
   "outputs": [],
   "source": [
    "#concatenate 'title' and 'selftext' into new column 'data'\n",
    "\n",
    "sci_fi['data'] = sci_fi['title'] + \" \" +sci_fi['selftext']\n",
    "horror['data'] = horror['title'] + \" \" +horror['selftext']\n",
    "\n",
    "# combine data for new dataframe\n",
    "red_data = pd.concat([sci_fi[['data', 'subreddit']], horror[['data', 'subreddit']]],\n",
    "                     axis=0, ignore_index=True)"
   ]
  },
  {
   "cell_type": "code",
   "execution_count": 31,
   "metadata": {},
   "outputs": [
    {
     "data": {
      "text/html": [
       "<div>\n",
       "<style scoped>\n",
       "    .dataframe tbody tr th:only-of-type {\n",
       "        vertical-align: middle;\n",
       "    }\n",
       "\n",
       "    .dataframe tbody tr th {\n",
       "        vertical-align: top;\n",
       "    }\n",
       "\n",
       "    .dataframe thead th {\n",
       "        text-align: right;\n",
       "    }\n",
       "</style>\n",
       "<table border=\"1\" class=\"dataframe\">\n",
       "  <thead>\n",
       "    <tr style=\"text-align: right;\">\n",
       "      <th></th>\n",
       "      <th>data</th>\n",
       "      <th>subreddit</th>\n",
       "    </tr>\n",
       "  </thead>\n",
       "  <tbody>\n",
       "    <tr>\n",
       "      <th>0</th>\n",
       "      <td>Earth vs the Flying Saucers (1956) movie trail...</td>\n",
       "      <td>scifimovies</td>\n",
       "    </tr>\n",
       "    <tr>\n",
       "      <th>1</th>\n",
       "      <td>It Lives Again 1974 movie trailer Plot: An epi...</td>\n",
       "      <td>scifimovies</td>\n",
       "    </tr>\n",
       "    <tr>\n",
       "      <th>2</th>\n",
       "      <td>Dredd is a good sci fi movie ....</td>\n",
       "      <td>scifimovies</td>\n",
       "    </tr>\n",
       "    <tr>\n",
       "      <th>3</th>\n",
       "      <td>The Unearthly 1957 movie trailer Plot: Mad doc...</td>\n",
       "      <td>scifimovies</td>\n",
       "    </tr>\n",
       "    <tr>\n",
       "      <th>4</th>\n",
       "      <td>Sci-Fi Short Film - C600 None</td>\n",
       "      <td>scifimovies</td>\n",
       "    </tr>\n",
       "  </tbody>\n",
       "</table>\n",
       "</div>"
      ],
      "text/plain": [
       "                                                data    subreddit\n",
       "0  Earth vs the Flying Saucers (1956) movie trail...  scifimovies\n",
       "1  It Lives Again 1974 movie trailer Plot: An epi...  scifimovies\n",
       "2                  Dredd is a good sci fi movie ....  scifimovies\n",
       "3  The Unearthly 1957 movie trailer Plot: Mad doc...  scifimovies\n",
       "4                      Sci-Fi Short Film - C600 None  scifimovies"
      ]
     },
     "execution_count": 31,
     "metadata": {},
     "output_type": "execute_result"
    }
   ],
   "source": [
    "#view first 5 rows\n",
    "red_data.head()"
   ]
  },
  {
   "cell_type": "code",
   "execution_count": 32,
   "metadata": {},
   "outputs": [
    {
     "data": {
      "text/html": [
       "<div>\n",
       "<style scoped>\n",
       "    .dataframe tbody tr th:only-of-type {\n",
       "        vertical-align: middle;\n",
       "    }\n",
       "\n",
       "    .dataframe tbody tr th {\n",
       "        vertical-align: top;\n",
       "    }\n",
       "\n",
       "    .dataframe thead th {\n",
       "        text-align: right;\n",
       "    }\n",
       "</style>\n",
       "<table border=\"1\" class=\"dataframe\">\n",
       "  <thead>\n",
       "    <tr style=\"text-align: right;\">\n",
       "      <th></th>\n",
       "      <th>data</th>\n",
       "      <th>subreddit</th>\n",
       "    </tr>\n",
       "  </thead>\n",
       "  <tbody>\n",
       "    <tr>\n",
       "      <th>1235</th>\n",
       "      <td>Am I the only one who thinks Hereditary sucks?...</td>\n",
       "      <td>HorrorMovies</td>\n",
       "    </tr>\n",
       "    <tr>\n",
       "      <th>1236</th>\n",
       "      <td>Someone PLEASE help me find the name of this m...</td>\n",
       "      <td>HorrorMovies</td>\n",
       "    </tr>\n",
       "    <tr>\n",
       "      <th>1237</th>\n",
       "      <td>Movie Recommendations for those who don't scar...</td>\n",
       "      <td>HorrorMovies</td>\n",
       "    </tr>\n",
       "    <tr>\n",
       "      <th>1238</th>\n",
       "      <td>wached the nun last night soooo i watched the ...</td>\n",
       "      <td>HorrorMovies</td>\n",
       "    </tr>\n",
       "    <tr>\n",
       "      <th>1239</th>\n",
       "      <td>Some halloween movie I watched as a kid Can yo...</td>\n",
       "      <td>HorrorMovies</td>\n",
       "    </tr>\n",
       "  </tbody>\n",
       "</table>\n",
       "</div>"
      ],
      "text/plain": [
       "                                                   data     subreddit\n",
       "1235  Am I the only one who thinks Hereditary sucks?...  HorrorMovies\n",
       "1236  Someone PLEASE help me find the name of this m...  HorrorMovies\n",
       "1237  Movie Recommendations for those who don't scar...  HorrorMovies\n",
       "1238  wached the nun last night soooo i watched the ...  HorrorMovies\n",
       "1239  Some halloween movie I watched as a kid Can yo...  HorrorMovies"
      ]
     },
     "execution_count": 32,
     "metadata": {},
     "output_type": "execute_result"
    }
   ],
   "source": [
    "#view last 5 rows\n",
    "red_data.tail()"
   ]
  },
  {
   "cell_type": "code",
   "execution_count": 33,
   "metadata": {},
   "outputs": [
    {
     "data": {
      "text/plain": [
       "(1240, 2)"
      ]
     },
     "execution_count": 33,
     "metadata": {},
     "output_type": "execute_result"
    }
   ],
   "source": [
    "#view shape of dataframe\n",
    "red_data.shape"
   ]
  },
  {
   "cell_type": "code",
   "execution_count": 34,
   "metadata": {},
   "outputs": [
    {
     "name": "stdout",
     "output_type": "stream",
     "text": [
      "<class 'pandas.core.frame.DataFrame'>\n",
      "RangeIndex: 1240 entries, 0 to 1239\n",
      "Data columns (total 2 columns):\n",
      " #   Column     Non-Null Count  Dtype \n",
      "---  ------     --------------  ----- \n",
      " 0   data       1240 non-null   object\n",
      " 1   subreddit  1240 non-null   object\n",
      "dtypes: object(2)\n",
      "memory usage: 19.5+ KB\n"
     ]
    }
   ],
   "source": [
    "#view information about dataframe\n",
    "red_data.info()"
   ]
  },
  {
   "cell_type": "code",
   "execution_count": 35,
   "metadata": {},
   "outputs": [
    {
     "data": {
      "text/plain": [
       "data         0\n",
       "subreddit    0\n",
       "dtype: int64"
      ]
     },
     "execution_count": 35,
     "metadata": {},
     "output_type": "execute_result"
    }
   ],
   "source": [
    "#view null values (if any)\n",
    "red_data.isnull().sum()"
   ]
  },
  {
   "cell_type": "code",
   "execution_count": 36,
   "metadata": {},
   "outputs": [
    {
     "name": "stdout",
     "output_type": "stream",
     "text": [
      "HorrorMovies    893\n",
      "scifimovies     347\n",
      "Name: subreddit, dtype: int64\n"
     ]
    }
   ],
   "source": [
    "# count of column values for label\n",
    "val_count(red_data, 'subreddit')"
   ]
  },
  {
   "cell_type": "code",
   "execution_count": 37,
   "metadata": {},
   "outputs": [],
   "source": [
    "# change columns name of 'reddit' to 'label'\n",
    "red_data.rename(columns={'subreddit': 'label'}, inplace=True)"
   ]
  },
  {
   "cell_type": "code",
   "execution_count": 38,
   "metadata": {},
   "outputs": [],
   "source": [
    "#change column values to lowercase\n",
    "red_data['data'] = red_data.data.str.lower()\n",
    "red_data['label'] = red_data.label.str.lower()"
   ]
  },
  {
   "cell_type": "code",
   "execution_count": 39,
   "metadata": {},
   "outputs": [],
   "source": [
    "#changing target label to binary for modeling\n",
    "red_data['label'] = red_data['label'].map({'horrormovies':0, 'scifimovies':1})"
   ]
  },
  {
   "cell_type": "code",
   "execution_count": 43,
   "metadata": {},
   "outputs": [],
   "source": [
    "#remove duplicates\n",
    "red_data.drop_duplicates(inplace=True)"
   ]
  },
  {
   "cell_type": "code",
   "execution_count": 44,
   "metadata": {},
   "outputs": [
    {
     "data": {
      "text/plain": [
       "(1238, 2)"
      ]
     },
     "execution_count": 44,
     "metadata": {},
     "output_type": "execute_result"
    }
   ],
   "source": [
    "#view shape of dataframe\n",
    "red_data.shape"
   ]
  },
  {
   "cell_type": "code",
   "execution_count": 46,
   "metadata": {},
   "outputs": [
    {
     "name": "stdout",
     "output_type": "stream",
     "text": [
      "0    893\n",
      "1    345\n",
      "Name: label, dtype: int64\n"
     ]
    }
   ],
   "source": [
    "# count of column values for label\n",
    "val_count(red_data, 'label')"
   ]
  },
  {
   "cell_type": "code",
   "execution_count": 47,
   "metadata": {
    "scrolled": false
   },
   "outputs": [
    {
     "data": {
      "text/html": [
       "<div>\n",
       "<style scoped>\n",
       "    .dataframe tbody tr th:only-of-type {\n",
       "        vertical-align: middle;\n",
       "    }\n",
       "\n",
       "    .dataframe tbody tr th {\n",
       "        vertical-align: top;\n",
       "    }\n",
       "\n",
       "    .dataframe thead th {\n",
       "        text-align: right;\n",
       "    }\n",
       "</style>\n",
       "<table border=\"1\" class=\"dataframe\">\n",
       "  <thead>\n",
       "    <tr style=\"text-align: right;\">\n",
       "      <th></th>\n",
       "      <th>data</th>\n",
       "      <th>label</th>\n",
       "    </tr>\n",
       "  </thead>\n",
       "  <tbody>\n",
       "    <tr>\n",
       "      <th>0</th>\n",
       "      <td>earth vs the flying saucers (1956) movie trail...</td>\n",
       "      <td>1</td>\n",
       "    </tr>\n",
       "    <tr>\n",
       "      <th>1</th>\n",
       "      <td>it lives again 1974 movie trailer plot: an epi...</td>\n",
       "      <td>1</td>\n",
       "    </tr>\n",
       "    <tr>\n",
       "      <th>2</th>\n",
       "      <td>dredd is a good sci fi movie ....</td>\n",
       "      <td>1</td>\n",
       "    </tr>\n",
       "    <tr>\n",
       "      <th>3</th>\n",
       "      <td>the unearthly 1957 movie trailer plot: mad doc...</td>\n",
       "      <td>1</td>\n",
       "    </tr>\n",
       "    <tr>\n",
       "      <th>4</th>\n",
       "      <td>sci-fi short film - c600 none</td>\n",
       "      <td>1</td>\n",
       "    </tr>\n",
       "  </tbody>\n",
       "</table>\n",
       "</div>"
      ],
      "text/plain": [
       "                                                data  label\n",
       "0  earth vs the flying saucers (1956) movie trail...      1\n",
       "1  it lives again 1974 movie trailer plot: an epi...      1\n",
       "2                  dredd is a good sci fi movie ....      1\n",
       "3  the unearthly 1957 movie trailer plot: mad doc...      1\n",
       "4                      sci-fi short film - c600 none      1"
      ]
     },
     "execution_count": 47,
     "metadata": {},
     "output_type": "execute_result"
    }
   ],
   "source": [
    "#view first 5 rows\n",
    "red_data.head()"
   ]
  },
  {
   "cell_type": "code",
   "execution_count": 48,
   "metadata": {},
   "outputs": [
    {
     "data": {
      "text/html": [
       "<div>\n",
       "<style scoped>\n",
       "    .dataframe tbody tr th:only-of-type {\n",
       "        vertical-align: middle;\n",
       "    }\n",
       "\n",
       "    .dataframe tbody tr th {\n",
       "        vertical-align: top;\n",
       "    }\n",
       "\n",
       "    .dataframe thead th {\n",
       "        text-align: right;\n",
       "    }\n",
       "</style>\n",
       "<table border=\"1\" class=\"dataframe\">\n",
       "  <thead>\n",
       "    <tr style=\"text-align: right;\">\n",
       "      <th></th>\n",
       "      <th>data</th>\n",
       "      <th>label</th>\n",
       "    </tr>\n",
       "  </thead>\n",
       "  <tbody>\n",
       "    <tr>\n",
       "      <th>1235</th>\n",
       "      <td>am i the only one who thinks hereditary sucks?...</td>\n",
       "      <td>0</td>\n",
       "    </tr>\n",
       "    <tr>\n",
       "      <th>1236</th>\n",
       "      <td>someone please help me find the name of this m...</td>\n",
       "      <td>0</td>\n",
       "    </tr>\n",
       "    <tr>\n",
       "      <th>1237</th>\n",
       "      <td>movie recommendations for those who don't scar...</td>\n",
       "      <td>0</td>\n",
       "    </tr>\n",
       "    <tr>\n",
       "      <th>1238</th>\n",
       "      <td>wached the nun last night soooo i watched the ...</td>\n",
       "      <td>0</td>\n",
       "    </tr>\n",
       "    <tr>\n",
       "      <th>1239</th>\n",
       "      <td>some halloween movie i watched as a kid can yo...</td>\n",
       "      <td>0</td>\n",
       "    </tr>\n",
       "  </tbody>\n",
       "</table>\n",
       "</div>"
      ],
      "text/plain": [
       "                                                   data  label\n",
       "1235  am i the only one who thinks hereditary sucks?...      0\n",
       "1236  someone please help me find the name of this m...      0\n",
       "1237  movie recommendations for those who don't scar...      0\n",
       "1238  wached the nun last night soooo i watched the ...      0\n",
       "1239  some halloween movie i watched as a kid can yo...      0"
      ]
     },
     "execution_count": 48,
     "metadata": {},
     "output_type": "execute_result"
    }
   ],
   "source": [
    "#view last 5 rows\n",
    "red_data.tail()"
   ]
  },
  {
   "cell_type": "markdown",
   "metadata": {},
   "source": [
    " <div class=\"alert alert-block alert-info\">\n",
    "<b>Final view:</b>\n",
    "    \n",
    "- Data has no null values\n",
    "    \n",
    "- Label has been converted into binary\n",
    "    \n",
    "- All data is converted into lowercase\n",
    "    \n",
    "- Both subredits have been combined into a tidy Dataframe consisting of 2 columns; where each variable forms a columns and each observation, a row.\n",
    "    \n",
    "- There is a total of 1238 post: 893 belonging to Horror and 345 belonging to Scifi. This presents an issue of imbalanced data. We can mediate this by avoiding models and scoring methods which are not favourable towards imbalanced data.\n",
    "\n",
    "    \n",
    "</div>\n"
   ]
  },
  {
   "cell_type": "code",
   "execution_count": 49,
   "metadata": {},
   "outputs": [],
   "source": [
    "#saving cleaned data\n",
    "red_data.to_csv('../datasets/combined_data.csv', index=False)"
   ]
  },
  {
   "cell_type": "markdown",
   "metadata": {},
   "source": [
    "Back up to: [1.0 - Data Collection and Cleaning](#1.0-Data-Collection-and-Cleaning)\n",
    "\n",
    "or \n",
    "\n",
    "Jump to:\n",
    "<!-- - [1.0 Data Collection and Cleaning](01_data_collection_&_cleaning.ipynb) -->\n",
    "- [2.0 EDA & Data Preprocessing](02_eda_&_data_processing.ipynb)\n",
    "- [3.0 Model Building](03_model_building.ipynb)\n",
    "- [4.0 Reddit Classification Report](04_reddit_classification_report.ipynb)"
   ]
  },
  {
   "cell_type": "code",
   "execution_count": null,
   "metadata": {},
   "outputs": [],
   "source": []
  }
 ],
 "metadata": {
  "kernelspec": {
   "display_name": "Python 3",
   "language": "python",
   "name": "python3"
  },
  "language_info": {
   "codemirror_mode": {
    "name": "ipython",
    "version": 3
   },
   "file_extension": ".py",
   "mimetype": "text/x-python",
   "name": "python",
   "nbconvert_exporter": "python",
   "pygments_lexer": "ipython3",
   "version": "3.7.6"
  }
 },
 "nbformat": 4,
 "nbformat_minor": 4
}
